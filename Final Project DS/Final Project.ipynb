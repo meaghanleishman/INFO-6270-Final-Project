{
 "cells": [
  {
   "cell_type": "markdown",
   "metadata": {},
   "source": [
    "## Canadian COVID Case Data\n",
    "*© 2021 Meaghan Leishman*\n",
    "\n",
    "COVID 19 has had a massive effect on the world. It has changed the way we live and will most likely continue to do so for a while. Millions of people have gotten sick, lost their jobs, lost their homes and even died because of the virus. Not only has the virus greatly effected individuals and families, it has also had a significant effect on the economy. Many countries are now in recessions, and those that aren't have experienced increasing unemployment rates, along with declining GDP growth (Jones, 2021). Despite all of the losses that the virus has lead to, here is still so much about COVID-19 that is unknown. Scientists and analysts are constantly working to learn everything they can to help stop the spread of the virus.\n",
    "\n",
    "This analysis will outline detail of Canada's COIVD data set. The data used was taken from Statistics Canada. Since the beginning of the pandemic in early 2020, Canada's COVID-19 numbers have risen to over 1 million total cases. As of April 11th 2021, Canada had just over 70,000 active cases.\n",
    "\n",
    " This analysis will be performed on preliminary data released by the government of Canada. The data contains 17 variables and just inder 1 million cases. \n",
    "\n",
    "__Note__: One thing to consider with this data is that it is very important to understand the meta data associated with the dataset. "
   ]
  },
  {
   "cell_type": "markdown",
   "metadata": {},
   "source": [
    "### Variable Definitions \n",
    "\n",
    "The original variable identifiers included in the datset are slightly vague so they will be updated to the following. \n",
    "\n",
    "- __COV_ID__ = Case ID\n",
    "- __COV_REG__ = Region\n",
    "- __COV_EW__ = Episode week\n",
    "- __COV_EWG__ = Episode week group\n",
    "- __COV_EY__ = Episode year\n",
    "- __COV_GDR__ = Gender\n",
    "- __COV_AGR__ = Age group\n",
    "- __COV_OCC__ = Occupation\n",
    "- __COV_ASM__ = Asymptomatic\n",
    "- __COV_OW__ = Onset week of symptoms\n",
    "- __COV_OY__= Onset year of symptoms\n",
    "- __COV_HSP__ = Hospital status\n",
    "- __COV_RSV__ = Resolved\n",
    "- __COV_RW__ = Resolution week\n",
    "- __COV_RY__ = Resolution year\n",
    "- __COV_DTH__ = Death\n",
    "- __COV_TRM__ = Transmission"
   ]
  },
  {
   "cell_type": "markdown",
   "metadata": {},
   "source": [
    "The below list is all the variables that require a bit more of an explaination to understand the analysis. The datapoints are all recorded as numbers, therefore answers to questions in the dataset were coded to specific numbers. Those are outlined below. \n",
    "\n",
    "- Case ID\n",
    "    * a number between 0 and 99999999\n",
    "- Region\n",
    "    * 1=Atlantic (New Brunswick, Nova Scotia, Prince Edward Island, Newfoundland and Labrador)\n",
    "    * 2=Quebec\n",
    "    * 3=Ontario and Nunavut\n",
    "    * 4=Prairies (Manitoba, Saskatchewan, Alberta) and the Northwest Territories\n",
    "    * 5=British Columbia and Yukon\n",
    "- Episode week\n",
    "    * Continuous value from 0 to 52, \n",
    "    * 99=Not stated\n",
    "- Episode week group\n",
    "    * this can be found in Appendix VI of https://www150.statcan.gc.ca/n1/pub/13-26-0002/132600022020001-eng.htm\n",
    "- Episode year\n",
    "    * 20=2020\n",
    "    * 21=2021\n",
    "    * 99=Not stated\n",
    "- Gender\n",
    "    * 1=Male\n",
    "    * 2=Female\n",
    "    * 9=Not stated/Other\n",
    "- Age group\n",
    "    * 1=0-19\n",
    "    * 2=20-29\n",
    "    * 3=30-39\n",
    "    * 4=40-49\n",
    "    * 5=50-59\n",
    "    * 6=60-69\n",
    "    * 7=70-79\n",
    "    * 8=80+\n",
    "    * 99=Not stated\n",
    "- Occupation\n",
    "    * 1=Health Care Worker\n",
    "    * 2=School or daycare worker/attendee\n",
    "    * 3=Long term care resident\n",
    "    * 4=Other\n",
    "    * 9=Not stated\n",
    "- Asymptomatic\n",
    "    * 1=Yes\n",
    "    * 2=No\n",
    "    * 9=Not Stated\n",
    "- Onset week\n",
    "    * Values ranging from 0 - 52, for each week of the year. Starting at December 29, 2020\n",
    "- Onset year\n",
    "    * 20=2020\n",
    "    * 21=2021\n",
    "    * 99=Not stated\n",
    "- Hospital status\n",
    "    * 1=Hospitalized - ICU\n",
    "    * 2=Hospitalized - Non-ICU\n",
    "    * 3=Not Hospitalized\n",
    "    * 9=Not stated/Unknown\n",
    "- Resolved\n",
    "    * 1=Yes\n",
    "    * 2=No\n",
    "    * 9=Not Stated/Unknown\n",
    "- Resolution week\n",
    "    * Values ranging from 0 - 52, for each week of the year. Starting at December 29, 2020\n",
    "- Resolution year\n",
    "    * 20=2020\n",
    "    * 21=2021\n",
    "    * 99=Not stated\n",
    "- Death\n",
    "    * 1=Yes, 2=No, 9=Not Stated\n",
    "- Transmission\n",
    "    * 1=Domestic Acquisition: “Contact of COVID Case” or “Contact with traveler” or “Unknown Source”, \n",
    "    * 2=International Travel, \n",
    "    * 9=Not stated/Pending"
   ]
  },
  {
   "cell_type": "markdown",
   "metadata": {},
   "source": [
    "### Research Questions \n",
    "\n",
    "1. Is there a relationship between the serverity of COVID and age? Severity will be determined by looking at hospitalization status and death. \n",
    "\n",
    "2. Are COVID cases more prominent in one gender? \n",
    "\n",
    "3. What is the relationship between region and transmission? "
   ]
  },
  {
   "cell_type": "markdown",
   "metadata": {},
   "source": [
    "#### Limitations\n",
    "\n",
    "This data comes with limitations, not unlike most other datasets. The main limitation of this data is that it only includes COVID-19 cases that fall under Canada's national case definition of _\"A person with laboratory confirmation of infection with the virus that causes COVID-19 performed at a community, hospital or reference laboratory (NML or a provincial public health laboratory) running a validated assay.\"_ (Statistics Canada, 2020)\n",
    "\n",
    "It is also important to note that this data is preliminary and it needs to be considered that it may not be a fully accurate representation as only about 250,000 of the instances have all the details included. "
   ]
  },
  {
   "cell_type": "code",
   "execution_count": 1,
   "metadata": {},
   "outputs": [],
   "source": [
    "import numpy as np\n",
    "import pandas as pd\n",
    "import matplotlib.pyplot as plt\n",
    "import seaborn as sns\n",
    "sns.set()\n",
    "from scipy import stats\n",
    "from sklearn.ensemble import RandomForestClassifier\n",
    "\n",
    "\n",
    "cov = pd.read_csv('COVID19-eng.csv') # this line will import the dataset as a dataframe"
   ]
  },
  {
   "cell_type": "markdown",
   "metadata": {},
   "source": [
    "#### Analysis\n",
    "\n",
    "The COVID dataset has been loaded into Python as a dataframe. This will allow for a much simpler analysis of the data. The below data demonstrates what the data looks like in the dataframe. This is done to get a better idea of what kind of information this analysis will use to derive its conclusions. This first table is displaying the first 5 cases in the dataset. "
   ]
  },
  {
   "cell_type": "code",
   "execution_count": 2,
   "metadata": {},
   "outputs": [
    {
     "data": {
      "text/html": [
       "<div>\n",
       "<style scoped>\n",
       "    .dataframe tbody tr th:only-of-type {\n",
       "        vertical-align: middle;\n",
       "    }\n",
       "\n",
       "    .dataframe tbody tr th {\n",
       "        vertical-align: top;\n",
       "    }\n",
       "\n",
       "    .dataframe thead th {\n",
       "        text-align: right;\n",
       "    }\n",
       "</style>\n",
       "<table border=\"1\" class=\"dataframe\">\n",
       "  <thead>\n",
       "    <tr style=\"text-align: right;\">\n",
       "      <th></th>\n",
       "      <th>COV_ID</th>\n",
       "      <th>COV_REG</th>\n",
       "      <th>COV_EW</th>\n",
       "      <th>COV_EWG</th>\n",
       "      <th>COV_EY</th>\n",
       "      <th>COV_GDR</th>\n",
       "      <th>COV_AGR</th>\n",
       "      <th>COV_OCC</th>\n",
       "      <th>COV_ASM</th>\n",
       "      <th>COV_OW</th>\n",
       "      <th>COV_OY</th>\n",
       "      <th>COV_HSP</th>\n",
       "      <th>COV_RSV</th>\n",
       "      <th>COV_RW</th>\n",
       "      <th>COV_RY</th>\n",
       "      <th>COV_DTH</th>\n",
       "      <th>COV_TRM</th>\n",
       "    </tr>\n",
       "  </thead>\n",
       "  <tbody>\n",
       "    <tr>\n",
       "      <th>0</th>\n",
       "      <td>1</td>\n",
       "      <td>3</td>\n",
       "      <td>52</td>\n",
       "      <td>0</td>\n",
       "      <td>20</td>\n",
       "      <td>2</td>\n",
       "      <td>6</td>\n",
       "      <td>9</td>\n",
       "      <td>1</td>\n",
       "      <td>52</td>\n",
       "      <td>20</td>\n",
       "      <td>9</td>\n",
       "      <td>1</td>\n",
       "      <td>99</td>\n",
       "      <td>99</td>\n",
       "      <td>2</td>\n",
       "      <td>1</td>\n",
       "    </tr>\n",
       "    <tr>\n",
       "      <th>1</th>\n",
       "      <td>2</td>\n",
       "      <td>2</td>\n",
       "      <td>3</td>\n",
       "      <td>0</td>\n",
       "      <td>21</td>\n",
       "      <td>1</td>\n",
       "      <td>7</td>\n",
       "      <td>4</td>\n",
       "      <td>1</td>\n",
       "      <td>99</td>\n",
       "      <td>99</td>\n",
       "      <td>2</td>\n",
       "      <td>9</td>\n",
       "      <td>99</td>\n",
       "      <td>99</td>\n",
       "      <td>9</td>\n",
       "      <td>1</td>\n",
       "    </tr>\n",
       "    <tr>\n",
       "      <th>2</th>\n",
       "      <td>3</td>\n",
       "      <td>3</td>\n",
       "      <td>40</td>\n",
       "      <td>0</td>\n",
       "      <td>20</td>\n",
       "      <td>1</td>\n",
       "      <td>1</td>\n",
       "      <td>9</td>\n",
       "      <td>2</td>\n",
       "      <td>99</td>\n",
       "      <td>99</td>\n",
       "      <td>9</td>\n",
       "      <td>1</td>\n",
       "      <td>99</td>\n",
       "      <td>99</td>\n",
       "      <td>2</td>\n",
       "      <td>1</td>\n",
       "    </tr>\n",
       "    <tr>\n",
       "      <th>3</th>\n",
       "      <td>4</td>\n",
       "      <td>2</td>\n",
       "      <td>1</td>\n",
       "      <td>0</td>\n",
       "      <td>21</td>\n",
       "      <td>1</td>\n",
       "      <td>5</td>\n",
       "      <td>4</td>\n",
       "      <td>2</td>\n",
       "      <td>1</td>\n",
       "      <td>21</td>\n",
       "      <td>3</td>\n",
       "      <td>1</td>\n",
       "      <td>3</td>\n",
       "      <td>21</td>\n",
       "      <td>2</td>\n",
       "      <td>1</td>\n",
       "    </tr>\n",
       "    <tr>\n",
       "      <th>4</th>\n",
       "      <td>5</td>\n",
       "      <td>2</td>\n",
       "      <td>44</td>\n",
       "      <td>0</td>\n",
       "      <td>20</td>\n",
       "      <td>2</td>\n",
       "      <td>1</td>\n",
       "      <td>4</td>\n",
       "      <td>2</td>\n",
       "      <td>44</td>\n",
       "      <td>20</td>\n",
       "      <td>3</td>\n",
       "      <td>1</td>\n",
       "      <td>45</td>\n",
       "      <td>20</td>\n",
       "      <td>2</td>\n",
       "      <td>1</td>\n",
       "    </tr>\n",
       "  </tbody>\n",
       "</table>\n",
       "</div>"
      ],
      "text/plain": [
       "   COV_ID  COV_REG  COV_EW  COV_EWG  COV_EY  COV_GDR  COV_AGR  COV_OCC  \\\n",
       "0       1        3      52        0      20        2        6        9   \n",
       "1       2        2       3        0      21        1        7        4   \n",
       "2       3        3      40        0      20        1        1        9   \n",
       "3       4        2       1        0      21        1        5        4   \n",
       "4       5        2      44        0      20        2        1        4   \n",
       "\n",
       "   COV_ASM  COV_OW  COV_OY  COV_HSP  COV_RSV  COV_RW  COV_RY  COV_DTH  COV_TRM  \n",
       "0        1      52      20        9        1      99      99        2        1  \n",
       "1        1      99      99        2        9      99      99        9        1  \n",
       "2        2      99      99        9        1      99      99        2        1  \n",
       "3        2       1      21        3        1       3      21        2        1  \n",
       "4        2      44      20        3        1      45      20        2        1  "
      ]
     },
     "execution_count": 2,
     "metadata": {},
     "output_type": "execute_result"
    }
   ],
   "source": [
    "cov.head()"
   ]
  },
  {
   "cell_type": "code",
   "execution_count": 3,
   "metadata": {},
   "outputs": [
    {
     "data": {
      "text/html": [
       "<div>\n",
       "<style scoped>\n",
       "    .dataframe tbody tr th:only-of-type {\n",
       "        vertical-align: middle;\n",
       "    }\n",
       "\n",
       "    .dataframe tbody tr th {\n",
       "        vertical-align: top;\n",
       "    }\n",
       "\n",
       "    .dataframe thead th {\n",
       "        text-align: right;\n",
       "    }\n",
       "</style>\n",
       "<table border=\"1\" class=\"dataframe\">\n",
       "  <thead>\n",
       "    <tr style=\"text-align: right;\">\n",
       "      <th></th>\n",
       "      <th>case_id</th>\n",
       "      <th>region</th>\n",
       "      <th>episode_week</th>\n",
       "      <th>episode_week_group</th>\n",
       "      <th>episode_year</th>\n",
       "      <th>gender</th>\n",
       "      <th>age_group</th>\n",
       "      <th>occupation</th>\n",
       "      <th>asymptomatic</th>\n",
       "      <th>onset_week</th>\n",
       "      <th>onset_year</th>\n",
       "      <th>hospital_status</th>\n",
       "      <th>resolved</th>\n",
       "      <th>resolution_week</th>\n",
       "      <th>resolution_year</th>\n",
       "      <th>death</th>\n",
       "      <th>transmission</th>\n",
       "    </tr>\n",
       "  </thead>\n",
       "  <tbody>\n",
       "    <tr>\n",
       "      <th>count</th>\n",
       "      <td>964821.00000</td>\n",
       "      <td>964821.000000</td>\n",
       "      <td>964821.000000</td>\n",
       "      <td>964821.000000</td>\n",
       "      <td>964821.000000</td>\n",
       "      <td>964821.000000</td>\n",
       "      <td>964821.000000</td>\n",
       "      <td>964821.000000</td>\n",
       "      <td>964821.000000</td>\n",
       "      <td>964821.000000</td>\n",
       "      <td>964821.000000</td>\n",
       "      <td>964821.000000</td>\n",
       "      <td>964821.000000</td>\n",
       "      <td>964821.000000</td>\n",
       "      <td>964821.000000</td>\n",
       "      <td>964821.000000</td>\n",
       "      <td>964821.000000</td>\n",
       "    </tr>\n",
       "    <tr>\n",
       "      <th>mean</th>\n",
       "      <td>482411.00000</td>\n",
       "      <td>3.100969</td>\n",
       "      <td>29.406870</td>\n",
       "      <td>0.000992</td>\n",
       "      <td>20.686882</td>\n",
       "      <td>1.528086</td>\n",
       "      <td>3.728630</td>\n",
       "      <td>5.542564</td>\n",
       "      <td>3.177743</td>\n",
       "      <td>49.011559</td>\n",
       "      <td>43.437894</td>\n",
       "      <td>4.716119</td>\n",
       "      <td>1.322810</td>\n",
       "      <td>65.904837</td>\n",
       "      <td>61.243107</td>\n",
       "      <td>2.238278</td>\n",
       "      <td>1.850839</td>\n",
       "    </tr>\n",
       "    <tr>\n",
       "      <th>std</th>\n",
       "      <td>278519.97637</td>\n",
       "      <td>0.968775</td>\n",
       "      <td>20.726829</td>\n",
       "      <td>0.067255</td>\n",
       "      <td>5.143730</td>\n",
       "      <td>0.619056</td>\n",
       "      <td>3.347946</td>\n",
       "      <td>2.782054</td>\n",
       "      <td>2.821466</td>\n",
       "      <td>36.182520</td>\n",
       "      <td>35.797805</td>\n",
       "      <td>2.795647</td>\n",
       "      <td>1.520966</td>\n",
       "      <td>36.840522</td>\n",
       "      <td>39.304973</td>\n",
       "      <td>1.341521</td>\n",
       "      <td>2.456553</td>\n",
       "    </tr>\n",
       "    <tr>\n",
       "      <th>min</th>\n",
       "      <td>1.00000</td>\n",
       "      <td>1.000000</td>\n",
       "      <td>1.000000</td>\n",
       "      <td>0.000000</td>\n",
       "      <td>20.000000</td>\n",
       "      <td>1.000000</td>\n",
       "      <td>1.000000</td>\n",
       "      <td>1.000000</td>\n",
       "      <td>1.000000</td>\n",
       "      <td>1.000000</td>\n",
       "      <td>20.000000</td>\n",
       "      <td>1.000000</td>\n",
       "      <td>1.000000</td>\n",
       "      <td>1.000000</td>\n",
       "      <td>20.000000</td>\n",
       "      <td>1.000000</td>\n",
       "      <td>1.000000</td>\n",
       "    </tr>\n",
       "    <tr>\n",
       "      <th>25%</th>\n",
       "      <td>241206.00000</td>\n",
       "      <td>2.000000</td>\n",
       "      <td>9.000000</td>\n",
       "      <td>0.000000</td>\n",
       "      <td>20.000000</td>\n",
       "      <td>1.000000</td>\n",
       "      <td>2.000000</td>\n",
       "      <td>4.000000</td>\n",
       "      <td>2.000000</td>\n",
       "      <td>12.000000</td>\n",
       "      <td>20.000000</td>\n",
       "      <td>3.000000</td>\n",
       "      <td>1.000000</td>\n",
       "      <td>40.000000</td>\n",
       "      <td>20.000000</td>\n",
       "      <td>2.000000</td>\n",
       "      <td>1.000000</td>\n",
       "    </tr>\n",
       "    <tr>\n",
       "      <th>50%</th>\n",
       "      <td>482411.00000</td>\n",
       "      <td>3.000000</td>\n",
       "      <td>38.000000</td>\n",
       "      <td>0.000000</td>\n",
       "      <td>20.000000</td>\n",
       "      <td>2.000000</td>\n",
       "      <td>3.000000</td>\n",
       "      <td>4.000000</td>\n",
       "      <td>2.000000</td>\n",
       "      <td>46.000000</td>\n",
       "      <td>21.000000</td>\n",
       "      <td>3.000000</td>\n",
       "      <td>1.000000</td>\n",
       "      <td>99.000000</td>\n",
       "      <td>99.000000</td>\n",
       "      <td>2.000000</td>\n",
       "      <td>1.000000</td>\n",
       "    </tr>\n",
       "    <tr>\n",
       "      <th>75%</th>\n",
       "      <td>723616.00000</td>\n",
       "      <td>4.000000</td>\n",
       "      <td>48.000000</td>\n",
       "      <td>0.000000</td>\n",
       "      <td>21.000000</td>\n",
       "      <td>2.000000</td>\n",
       "      <td>5.000000</td>\n",
       "      <td>9.000000</td>\n",
       "      <td>2.000000</td>\n",
       "      <td>99.000000</td>\n",
       "      <td>99.000000</td>\n",
       "      <td>9.000000</td>\n",
       "      <td>1.000000</td>\n",
       "      <td>99.000000</td>\n",
       "      <td>99.000000</td>\n",
       "      <td>2.000000</td>\n",
       "      <td>1.000000</td>\n",
       "    </tr>\n",
       "    <tr>\n",
       "      <th>max</th>\n",
       "      <td>964821.00000</td>\n",
       "      <td>5.000000</td>\n",
       "      <td>99.000000</td>\n",
       "      <td>6.000000</td>\n",
       "      <td>99.000000</td>\n",
       "      <td>9.000000</td>\n",
       "      <td>99.000000</td>\n",
       "      <td>9.000000</td>\n",
       "      <td>9.000000</td>\n",
       "      <td>99.000000</td>\n",
       "      <td>99.000000</td>\n",
       "      <td>9.000000</td>\n",
       "      <td>9.000000</td>\n",
       "      <td>99.000000</td>\n",
       "      <td>99.000000</td>\n",
       "      <td>9.000000</td>\n",
       "      <td>9.000000</td>\n",
       "    </tr>\n",
       "  </tbody>\n",
       "</table>\n",
       "</div>"
      ],
      "text/plain": [
       "            case_id         region   episode_week  episode_week_group  \\\n",
       "count  964821.00000  964821.000000  964821.000000       964821.000000   \n",
       "mean   482411.00000       3.100969      29.406870            0.000992   \n",
       "std    278519.97637       0.968775      20.726829            0.067255   \n",
       "min         1.00000       1.000000       1.000000            0.000000   \n",
       "25%    241206.00000       2.000000       9.000000            0.000000   \n",
       "50%    482411.00000       3.000000      38.000000            0.000000   \n",
       "75%    723616.00000       4.000000      48.000000            0.000000   \n",
       "max    964821.00000       5.000000      99.000000            6.000000   \n",
       "\n",
       "        episode_year         gender      age_group     occupation  \\\n",
       "count  964821.000000  964821.000000  964821.000000  964821.000000   \n",
       "mean       20.686882       1.528086       3.728630       5.542564   \n",
       "std         5.143730       0.619056       3.347946       2.782054   \n",
       "min        20.000000       1.000000       1.000000       1.000000   \n",
       "25%        20.000000       1.000000       2.000000       4.000000   \n",
       "50%        20.000000       2.000000       3.000000       4.000000   \n",
       "75%        21.000000       2.000000       5.000000       9.000000   \n",
       "max        99.000000       9.000000      99.000000       9.000000   \n",
       "\n",
       "        asymptomatic     onset_week     onset_year  hospital_status  \\\n",
       "count  964821.000000  964821.000000  964821.000000    964821.000000   \n",
       "mean        3.177743      49.011559      43.437894         4.716119   \n",
       "std         2.821466      36.182520      35.797805         2.795647   \n",
       "min         1.000000       1.000000      20.000000         1.000000   \n",
       "25%         2.000000      12.000000      20.000000         3.000000   \n",
       "50%         2.000000      46.000000      21.000000         3.000000   \n",
       "75%         2.000000      99.000000      99.000000         9.000000   \n",
       "max         9.000000      99.000000      99.000000         9.000000   \n",
       "\n",
       "            resolved  resolution_week  resolution_year          death  \\\n",
       "count  964821.000000    964821.000000    964821.000000  964821.000000   \n",
       "mean        1.322810        65.904837        61.243107       2.238278   \n",
       "std         1.520966        36.840522        39.304973       1.341521   \n",
       "min         1.000000         1.000000        20.000000       1.000000   \n",
       "25%         1.000000        40.000000        20.000000       2.000000   \n",
       "50%         1.000000        99.000000        99.000000       2.000000   \n",
       "75%         1.000000        99.000000        99.000000       2.000000   \n",
       "max         9.000000        99.000000        99.000000       9.000000   \n",
       "\n",
       "        transmission  \n",
       "count  964821.000000  \n",
       "mean        1.850839  \n",
       "std         2.456553  \n",
       "min         1.000000  \n",
       "25%         1.000000  \n",
       "50%         1.000000  \n",
       "75%         1.000000  \n",
       "max         9.000000  "
      ]
     },
     "execution_count": 3,
     "metadata": {},
     "output_type": "execute_result"
    }
   ],
   "source": [
    "cov.columns = [\n",
    "    'case_id', \n",
    "    'region', \n",
    "    'episode_week', \n",
    "    'episode_week_group', \n",
    "    'episode_year', \n",
    "    'gender', \n",
    "    'age_group',\n",
    "    'occupation',\n",
    "    'asymptomatic',\n",
    "    'onset_week',\n",
    "    'onset_year',\n",
    "    'hospital_status',\n",
    "    'resolved',\n",
    "    'resolution_week',\n",
    "    'resolution_year',\n",
    "    'death',\n",
    "    'transmission'\n",
    "]\n",
    "cov.describe()"
   ]
  },
  {
   "cell_type": "code",
   "execution_count": 4,
   "metadata": {},
   "outputs": [
    {
     "data": {
      "text/html": [
       "<div>\n",
       "<style scoped>\n",
       "    .dataframe tbody tr th:only-of-type {\n",
       "        vertical-align: middle;\n",
       "    }\n",
       "\n",
       "    .dataframe tbody tr th {\n",
       "        vertical-align: top;\n",
       "    }\n",
       "\n",
       "    .dataframe thead th {\n",
       "        text-align: right;\n",
       "    }\n",
       "</style>\n",
       "<table border=\"1\" class=\"dataframe\">\n",
       "  <thead>\n",
       "    <tr style=\"text-align: right;\">\n",
       "      <th></th>\n",
       "      <th>case_id</th>\n",
       "      <th>region</th>\n",
       "      <th>episode_week</th>\n",
       "      <th>episode_week_group</th>\n",
       "      <th>episode_year</th>\n",
       "      <th>gender</th>\n",
       "      <th>age_group</th>\n",
       "      <th>occupation</th>\n",
       "      <th>asymptomatic</th>\n",
       "      <th>onset_week</th>\n",
       "      <th>onset_year</th>\n",
       "      <th>hospital_status</th>\n",
       "      <th>resolved</th>\n",
       "      <th>resolution_week</th>\n",
       "      <th>resolution_year</th>\n",
       "      <th>death</th>\n",
       "      <th>transmission</th>\n",
       "    </tr>\n",
       "  </thead>\n",
       "  <tbody>\n",
       "    <tr>\n",
       "      <th>count</th>\n",
       "      <td>707403.000000</td>\n",
       "      <td>707403.000000</td>\n",
       "      <td>707403.000000</td>\n",
       "      <td>707403.000000</td>\n",
       "      <td>707403.000000</td>\n",
       "      <td>707403.000000</td>\n",
       "      <td>707403.000000</td>\n",
       "      <td>707403.000000</td>\n",
       "      <td>707403.000000</td>\n",
       "      <td>707403.000000</td>\n",
       "      <td>707403.000000</td>\n",
       "      <td>707403.000000</td>\n",
       "      <td>707403.000000</td>\n",
       "      <td>707403.000000</td>\n",
       "      <td>707403.000000</td>\n",
       "      <td>707403.000000</td>\n",
       "      <td>707403.000000</td>\n",
       "    </tr>\n",
       "    <tr>\n",
       "      <th>mean</th>\n",
       "      <td>482622.157582</td>\n",
       "      <td>3.238650</td>\n",
       "      <td>29.746354</td>\n",
       "      <td>0.001170</td>\n",
       "      <td>20.838960</td>\n",
       "      <td>1.526867</td>\n",
       "      <td>3.817159</td>\n",
       "      <td>6.312048</td>\n",
       "      <td>3.627833</td>\n",
       "      <td>56.485023</td>\n",
       "      <td>51.868874</td>\n",
       "      <td>5.357974</td>\n",
       "      <td>1.440278</td>\n",
       "      <td>78.768296</td>\n",
       "      <td>76.153255</td>\n",
       "      <td>2.324986</td>\n",
       "      <td>2.156732</td>\n",
       "    </tr>\n",
       "    <tr>\n",
       "      <th>std</th>\n",
       "      <td>278428.551203</td>\n",
       "      <td>0.930286</td>\n",
       "      <td>21.507679</td>\n",
       "      <td>0.074412</td>\n",
       "      <td>5.993961</td>\n",
       "      <td>0.657317</td>\n",
       "      <td>3.725359</td>\n",
       "      <td>2.805139</td>\n",
       "      <td>3.174580</td>\n",
       "      <td>38.122371</td>\n",
       "      <td>38.487844</td>\n",
       "      <td>3.015741</td>\n",
       "      <td>1.761653</td>\n",
       "      <td>33.294965</td>\n",
       "      <td>35.689425</td>\n",
       "      <td>1.557686</td>\n",
       "      <td>2.806460</td>\n",
       "    </tr>\n",
       "    <tr>\n",
       "      <th>min</th>\n",
       "      <td>1.000000</td>\n",
       "      <td>1.000000</td>\n",
       "      <td>1.000000</td>\n",
       "      <td>0.000000</td>\n",
       "      <td>20.000000</td>\n",
       "      <td>1.000000</td>\n",
       "      <td>1.000000</td>\n",
       "      <td>1.000000</td>\n",
       "      <td>1.000000</td>\n",
       "      <td>1.000000</td>\n",
       "      <td>20.000000</td>\n",
       "      <td>1.000000</td>\n",
       "      <td>1.000000</td>\n",
       "      <td>1.000000</td>\n",
       "      <td>20.000000</td>\n",
       "      <td>1.000000</td>\n",
       "      <td>1.000000</td>\n",
       "    </tr>\n",
       "    <tr>\n",
       "      <th>25%</th>\n",
       "      <td>241624.500000</td>\n",
       "      <td>3.000000</td>\n",
       "      <td>9.000000</td>\n",
       "      <td>0.000000</td>\n",
       "      <td>20.000000</td>\n",
       "      <td>1.000000</td>\n",
       "      <td>2.000000</td>\n",
       "      <td>4.000000</td>\n",
       "      <td>2.000000</td>\n",
       "      <td>12.000000</td>\n",
       "      <td>20.000000</td>\n",
       "      <td>3.000000</td>\n",
       "      <td>1.000000</td>\n",
       "      <td>50.000000</td>\n",
       "      <td>21.000000</td>\n",
       "      <td>2.000000</td>\n",
       "      <td>1.000000</td>\n",
       "    </tr>\n",
       "    <tr>\n",
       "      <th>50%</th>\n",
       "      <td>482614.000000</td>\n",
       "      <td>3.000000</td>\n",
       "      <td>38.000000</td>\n",
       "      <td>0.000000</td>\n",
       "      <td>20.000000</td>\n",
       "      <td>2.000000</td>\n",
       "      <td>3.000000</td>\n",
       "      <td>9.000000</td>\n",
       "      <td>2.000000</td>\n",
       "      <td>51.000000</td>\n",
       "      <td>21.000000</td>\n",
       "      <td>3.000000</td>\n",
       "      <td>1.000000</td>\n",
       "      <td>99.000000</td>\n",
       "      <td>99.000000</td>\n",
       "      <td>2.000000</td>\n",
       "      <td>1.000000</td>\n",
       "    </tr>\n",
       "    <tr>\n",
       "      <th>75%</th>\n",
       "      <td>723869.500000</td>\n",
       "      <td>4.000000</td>\n",
       "      <td>49.000000</td>\n",
       "      <td>0.000000</td>\n",
       "      <td>21.000000</td>\n",
       "      <td>2.000000</td>\n",
       "      <td>5.000000</td>\n",
       "      <td>9.000000</td>\n",
       "      <td>9.000000</td>\n",
       "      <td>99.000000</td>\n",
       "      <td>99.000000</td>\n",
       "      <td>9.000000</td>\n",
       "      <td>1.000000</td>\n",
       "      <td>99.000000</td>\n",
       "      <td>99.000000</td>\n",
       "      <td>2.000000</td>\n",
       "      <td>1.000000</td>\n",
       "    </tr>\n",
       "    <tr>\n",
       "      <th>max</th>\n",
       "      <td>964821.000000</td>\n",
       "      <td>5.000000</td>\n",
       "      <td>99.000000</td>\n",
       "      <td>6.000000</td>\n",
       "      <td>99.000000</td>\n",
       "      <td>9.000000</td>\n",
       "      <td>99.000000</td>\n",
       "      <td>9.000000</td>\n",
       "      <td>9.000000</td>\n",
       "      <td>99.000000</td>\n",
       "      <td>99.000000</td>\n",
       "      <td>9.000000</td>\n",
       "      <td>9.000000</td>\n",
       "      <td>99.000000</td>\n",
       "      <td>99.000000</td>\n",
       "      <td>9.000000</td>\n",
       "      <td>9.000000</td>\n",
       "    </tr>\n",
       "  </tbody>\n",
       "</table>\n",
       "</div>"
      ],
      "text/plain": [
       "             case_id         region   episode_week  episode_week_group  \\\n",
       "count  707403.000000  707403.000000  707403.000000       707403.000000   \n",
       "mean   482622.157582       3.238650      29.746354            0.001170   \n",
       "std    278428.551203       0.930286      21.507679            0.074412   \n",
       "min         1.000000       1.000000       1.000000            0.000000   \n",
       "25%    241624.500000       3.000000       9.000000            0.000000   \n",
       "50%    482614.000000       3.000000      38.000000            0.000000   \n",
       "75%    723869.500000       4.000000      49.000000            0.000000   \n",
       "max    964821.000000       5.000000      99.000000            6.000000   \n",
       "\n",
       "        episode_year         gender      age_group     occupation  \\\n",
       "count  707403.000000  707403.000000  707403.000000  707403.000000   \n",
       "mean       20.838960       1.526867       3.817159       6.312048   \n",
       "std         5.993961       0.657317       3.725359       2.805139   \n",
       "min        20.000000       1.000000       1.000000       1.000000   \n",
       "25%        20.000000       1.000000       2.000000       4.000000   \n",
       "50%        20.000000       2.000000       3.000000       9.000000   \n",
       "75%        21.000000       2.000000       5.000000       9.000000   \n",
       "max        99.000000       9.000000      99.000000       9.000000   \n",
       "\n",
       "        asymptomatic     onset_week     onset_year  hospital_status  \\\n",
       "count  707403.000000  707403.000000  707403.000000    707403.000000   \n",
       "mean        3.627833      56.485023      51.868874         5.357974   \n",
       "std         3.174580      38.122371      38.487844         3.015741   \n",
       "min         1.000000       1.000000      20.000000         1.000000   \n",
       "25%         2.000000      12.000000      20.000000         3.000000   \n",
       "50%         2.000000      51.000000      21.000000         3.000000   \n",
       "75%         9.000000      99.000000      99.000000         9.000000   \n",
       "max         9.000000      99.000000      99.000000         9.000000   \n",
       "\n",
       "            resolved  resolution_week  resolution_year          death  \\\n",
       "count  707403.000000    707403.000000    707403.000000  707403.000000   \n",
       "mean        1.440278        78.768296        76.153255       2.324986   \n",
       "std         1.761653        33.294965        35.689425       1.557686   \n",
       "min         1.000000         1.000000        20.000000       1.000000   \n",
       "25%         1.000000        50.000000        21.000000       2.000000   \n",
       "50%         1.000000        99.000000        99.000000       2.000000   \n",
       "75%         1.000000        99.000000        99.000000       2.000000   \n",
       "max         9.000000        99.000000        99.000000       9.000000   \n",
       "\n",
       "        transmission  \n",
       "count  707403.000000  \n",
       "mean        2.156732  \n",
       "std         2.806460  \n",
       "min         1.000000  \n",
       "25%         1.000000  \n",
       "50%         1.000000  \n",
       "75%         1.000000  \n",
       "max         9.000000  "
      ]
     },
     "execution_count": 4,
     "metadata": {},
     "output_type": "execute_result"
    }
   ],
   "source": [
    "cov_outliers = cov[(cov['age_group'] == 99) | \n",
    "                   (cov['episode_week'] == 99) | \n",
    "                   (cov['episode_year'] == 99) | \n",
    "                   (cov['gender'] == 9) | \n",
    "                   (cov['occupation'] == 9) | \n",
    "                   (cov['asymptomatic'] == 9) | \n",
    "                   (cov['onset_week'] == 99) | \n",
    "                   (cov['onset_year'] == 99) | \n",
    "                   (cov['hospital_status'] == 9) | \n",
    "                   (cov['resolved'] == 9) | \n",
    "                   (cov['resolution_week'] == 99) | \n",
    "                   (cov['resolution_year'] == 99) | \n",
    "                   (cov['death'] == 9) | \n",
    "                   (cov['transmission'] == 9)\n",
    "                  ]\n",
    "cov_outliers.describe()"
   ]
  },
  {
   "cell_type": "markdown",
   "metadata": {},
   "source": [
    "The __cov_clean__ version of the dataset that is being created will remove any of the variables that are record as a 9 or a 99, meaning that either the data was not available or the response was \"other\". This version of the data is displayed but will not be used for analysis. With this data, the unknown are just as important as the rest of the data because they demonstrate key areas where information may be lacking. As the cleaned dataset confirmed, based on the above outliers, only 257,418 of the records in this dataset contain all the data point. That is approximately 25% of the dataset.  "
   ]
  },
  {
   "cell_type": "code",
   "execution_count": 5,
   "metadata": {
    "scrolled": false
   },
   "outputs": [
    {
     "data": {
      "text/html": [
       "<div>\n",
       "<style scoped>\n",
       "    .dataframe tbody tr th:only-of-type {\n",
       "        vertical-align: middle;\n",
       "    }\n",
       "\n",
       "    .dataframe tbody tr th {\n",
       "        vertical-align: top;\n",
       "    }\n",
       "\n",
       "    .dataframe thead th {\n",
       "        text-align: right;\n",
       "    }\n",
       "</style>\n",
       "<table border=\"1\" class=\"dataframe\">\n",
       "  <thead>\n",
       "    <tr style=\"text-align: right;\">\n",
       "      <th></th>\n",
       "      <th>case_id</th>\n",
       "      <th>region</th>\n",
       "      <th>episode_week</th>\n",
       "      <th>episode_week_group</th>\n",
       "      <th>episode_year</th>\n",
       "      <th>gender</th>\n",
       "      <th>age_group</th>\n",
       "      <th>occupation</th>\n",
       "      <th>asymptomatic</th>\n",
       "      <th>onset_week</th>\n",
       "      <th>onset_year</th>\n",
       "      <th>hospital_status</th>\n",
       "      <th>resolved</th>\n",
       "      <th>resolution_week</th>\n",
       "      <th>resolution_year</th>\n",
       "      <th>death</th>\n",
       "      <th>transmission</th>\n",
       "    </tr>\n",
       "  </thead>\n",
       "  <tbody>\n",
       "    <tr>\n",
       "      <th>count</th>\n",
       "      <td>257418.000000</td>\n",
       "      <td>257418.000000</td>\n",
       "      <td>257418.000000</td>\n",
       "      <td>257418.000000</td>\n",
       "      <td>257418.000000</td>\n",
       "      <td>257418.000000</td>\n",
       "      <td>257418.000000</td>\n",
       "      <td>257418.000000</td>\n",
       "      <td>257418.000000</td>\n",
       "      <td>257418.000000</td>\n",
       "      <td>257418.000000</td>\n",
       "      <td>257418.000000</td>\n",
       "      <td>257418.0</td>\n",
       "      <td>257418.000000</td>\n",
       "      <td>257418.000000</td>\n",
       "      <td>257418.0</td>\n",
       "      <td>257418.000000</td>\n",
       "    </tr>\n",
       "    <tr>\n",
       "      <th>mean</th>\n",
       "      <td>481830.723924</td>\n",
       "      <td>2.722611</td>\n",
       "      <td>28.473945</td>\n",
       "      <td>0.000501</td>\n",
       "      <td>20.268959</td>\n",
       "      <td>1.531435</td>\n",
       "      <td>3.485347</td>\n",
       "      <td>3.427965</td>\n",
       "      <td>1.940863</td>\n",
       "      <td>28.473945</td>\n",
       "      <td>20.268959</td>\n",
       "      <td>2.952257</td>\n",
       "      <td>1.0</td>\n",
       "      <td>30.555136</td>\n",
       "      <td>20.268959</td>\n",
       "      <td>2.0</td>\n",
       "      <td>1.010221</td>\n",
       "    </tr>\n",
       "    <tr>\n",
       "      <th>std</th>\n",
       "      <td>278770.782251</td>\n",
       "      <td>0.971669</td>\n",
       "      <td>18.379001</td>\n",
       "      <td>0.041668</td>\n",
       "      <td>0.443420</td>\n",
       "      <td>0.499012</td>\n",
       "      <td>1.947278</td>\n",
       "      <td>1.134325</td>\n",
       "      <td>0.235882</td>\n",
       "      <td>18.379001</td>\n",
       "      <td>0.443420</td>\n",
       "      <td>0.239514</td>\n",
       "      <td>0.0</td>\n",
       "      <td>18.337519</td>\n",
       "      <td>0.443420</td>\n",
       "      <td>0.0</td>\n",
       "      <td>0.100580</td>\n",
       "    </tr>\n",
       "    <tr>\n",
       "      <th>min</th>\n",
       "      <td>4.000000</td>\n",
       "      <td>1.000000</td>\n",
       "      <td>1.000000</td>\n",
       "      <td>0.000000</td>\n",
       "      <td>20.000000</td>\n",
       "      <td>1.000000</td>\n",
       "      <td>1.000000</td>\n",
       "      <td>1.000000</td>\n",
       "      <td>1.000000</td>\n",
       "      <td>1.000000</td>\n",
       "      <td>20.000000</td>\n",
       "      <td>1.000000</td>\n",
       "      <td>1.0</td>\n",
       "      <td>1.000000</td>\n",
       "      <td>20.000000</td>\n",
       "      <td>2.0</td>\n",
       "      <td>1.000000</td>\n",
       "    </tr>\n",
       "    <tr>\n",
       "      <th>25%</th>\n",
       "      <td>239969.500000</td>\n",
       "      <td>2.000000</td>\n",
       "      <td>9.000000</td>\n",
       "      <td>0.000000</td>\n",
       "      <td>20.000000</td>\n",
       "      <td>1.000000</td>\n",
       "      <td>2.000000</td>\n",
       "      <td>4.000000</td>\n",
       "      <td>2.000000</td>\n",
       "      <td>9.000000</td>\n",
       "      <td>20.000000</td>\n",
       "      <td>3.000000</td>\n",
       "      <td>1.0</td>\n",
       "      <td>11.000000</td>\n",
       "      <td>20.000000</td>\n",
       "      <td>2.0</td>\n",
       "      <td>1.000000</td>\n",
       "    </tr>\n",
       "    <tr>\n",
       "      <th>50%</th>\n",
       "      <td>481856.500000</td>\n",
       "      <td>2.000000</td>\n",
       "      <td>38.000000</td>\n",
       "      <td>0.000000</td>\n",
       "      <td>20.000000</td>\n",
       "      <td>2.000000</td>\n",
       "      <td>3.000000</td>\n",
       "      <td>4.000000</td>\n",
       "      <td>2.000000</td>\n",
       "      <td>38.000000</td>\n",
       "      <td>20.000000</td>\n",
       "      <td>3.000000</td>\n",
       "      <td>1.0</td>\n",
       "      <td>40.000000</td>\n",
       "      <td>20.000000</td>\n",
       "      <td>2.0</td>\n",
       "      <td>1.000000</td>\n",
       "    </tr>\n",
       "    <tr>\n",
       "      <th>75%</th>\n",
       "      <td>722948.250000</td>\n",
       "      <td>4.000000</td>\n",
       "      <td>45.000000</td>\n",
       "      <td>0.000000</td>\n",
       "      <td>21.000000</td>\n",
       "      <td>2.000000</td>\n",
       "      <td>5.000000</td>\n",
       "      <td>4.000000</td>\n",
       "      <td>2.000000</td>\n",
       "      <td>45.000000</td>\n",
       "      <td>21.000000</td>\n",
       "      <td>3.000000</td>\n",
       "      <td>1.0</td>\n",
       "      <td>47.000000</td>\n",
       "      <td>21.000000</td>\n",
       "      <td>2.0</td>\n",
       "      <td>1.000000</td>\n",
       "    </tr>\n",
       "    <tr>\n",
       "      <th>max</th>\n",
       "      <td>964816.000000</td>\n",
       "      <td>5.000000</td>\n",
       "      <td>52.000000</td>\n",
       "      <td>6.000000</td>\n",
       "      <td>21.000000</td>\n",
       "      <td>2.000000</td>\n",
       "      <td>8.000000</td>\n",
       "      <td>4.000000</td>\n",
       "      <td>2.000000</td>\n",
       "      <td>52.000000</td>\n",
       "      <td>21.000000</td>\n",
       "      <td>3.000000</td>\n",
       "      <td>1.0</td>\n",
       "      <td>52.000000</td>\n",
       "      <td>21.000000</td>\n",
       "      <td>2.0</td>\n",
       "      <td>2.000000</td>\n",
       "    </tr>\n",
       "  </tbody>\n",
       "</table>\n",
       "</div>"
      ],
      "text/plain": [
       "             case_id         region   episode_week  episode_week_group  \\\n",
       "count  257418.000000  257418.000000  257418.000000       257418.000000   \n",
       "mean   481830.723924       2.722611      28.473945            0.000501   \n",
       "std    278770.782251       0.971669      18.379001            0.041668   \n",
       "min         4.000000       1.000000       1.000000            0.000000   \n",
       "25%    239969.500000       2.000000       9.000000            0.000000   \n",
       "50%    481856.500000       2.000000      38.000000            0.000000   \n",
       "75%    722948.250000       4.000000      45.000000            0.000000   \n",
       "max    964816.000000       5.000000      52.000000            6.000000   \n",
       "\n",
       "        episode_year         gender      age_group     occupation  \\\n",
       "count  257418.000000  257418.000000  257418.000000  257418.000000   \n",
       "mean       20.268959       1.531435       3.485347       3.427965   \n",
       "std         0.443420       0.499012       1.947278       1.134325   \n",
       "min        20.000000       1.000000       1.000000       1.000000   \n",
       "25%        20.000000       1.000000       2.000000       4.000000   \n",
       "50%        20.000000       2.000000       3.000000       4.000000   \n",
       "75%        21.000000       2.000000       5.000000       4.000000   \n",
       "max        21.000000       2.000000       8.000000       4.000000   \n",
       "\n",
       "        asymptomatic     onset_week     onset_year  hospital_status  resolved  \\\n",
       "count  257418.000000  257418.000000  257418.000000    257418.000000  257418.0   \n",
       "mean        1.940863      28.473945      20.268959         2.952257       1.0   \n",
       "std         0.235882      18.379001       0.443420         0.239514       0.0   \n",
       "min         1.000000       1.000000      20.000000         1.000000       1.0   \n",
       "25%         2.000000       9.000000      20.000000         3.000000       1.0   \n",
       "50%         2.000000      38.000000      20.000000         3.000000       1.0   \n",
       "75%         2.000000      45.000000      21.000000         3.000000       1.0   \n",
       "max         2.000000      52.000000      21.000000         3.000000       1.0   \n",
       "\n",
       "       resolution_week  resolution_year     death   transmission  \n",
       "count    257418.000000    257418.000000  257418.0  257418.000000  \n",
       "mean         30.555136        20.268959       2.0       1.010221  \n",
       "std          18.337519         0.443420       0.0       0.100580  \n",
       "min           1.000000        20.000000       2.0       1.000000  \n",
       "25%          11.000000        20.000000       2.0       1.000000  \n",
       "50%          40.000000        20.000000       2.0       1.000000  \n",
       "75%          47.000000        21.000000       2.0       1.000000  \n",
       "max          52.000000        21.000000       2.0       2.000000  "
      ]
     },
     "execution_count": 5,
     "metadata": {},
     "output_type": "execute_result"
    }
   ],
   "source": [
    "cov_clean = cov[(cov['age_group'] != 99) & \n",
    "                   (cov['episode_week'] != 99) &\n",
    "                   (cov['episode_year'] != 99) &\n",
    "                   (cov['gender'] != 9) &\n",
    "                   (cov['occupation'] != 9) &\n",
    "                   (cov['asymptomatic'] != 9) &\n",
    "                   (cov['onset_week'] != 99) &\n",
    "                   (cov['onset_year'] != 99) &\n",
    "                   (cov['hospital_status'] != 9) &\n",
    "                   (cov['resolved'] != 9) &\n",
    "                   (cov['resolution_week'] != 99) &\n",
    "                   (cov['resolution_year'] != 99) &\n",
    "                   (cov['death'] != 9) &\n",
    "                   (cov['transmission'] != 9)\n",
    "               ]\n",
    "cov_clean.describe()"
   ]
  },
  {
   "cell_type": "markdown",
   "metadata": {},
   "source": [
    "### 1.  Is there a relationship between the serverity of COVID and age? Severity will be determined by looking at hospitalization status and death."
   ]
  },
  {
   "cell_type": "markdown",
   "metadata": {},
   "source": [
    "In order to better understand the data, a column chart will be created to visualize the age group distribution of the dataset. The first research questions deals significantly with age, therefore, understanding the distribution of the age groups in the data is important. The chart below indicates that the majority of the data comes from younger age groups. It can be inferred that this is because those age groups are the ones that work as front-line workers and in essential servies, putting them most at risk, and therefore appearing the most in the COVID data. "
   ]
  },
  {
   "cell_type": "code",
   "execution_count": 6,
   "metadata": {},
   "outputs": [
    {
     "data": {
      "text/plain": [
       "<AxesSubplot:xlabel='age_group', ylabel='count'>"
      ]
     },
     "execution_count": 6,
     "metadata": {},
     "output_type": "execute_result"
    },
    {
     "data": {
      "image/png": "[encoded data removed]",
      "text/plain": [
       "<Figure size 432x288 with 1 Axes>"
      ]
     },
     "metadata": {},
     "output_type": "display_data"
    }
   ],
   "source": [
    "sns.countplot(x=\"age_group\", data=cov)"
   ]
  },
  {
   "cell_type": "markdown",
   "metadata": {},
   "source": [
    "This next chart will display the death rates across age groups. As the age group gets older, the death rate also increases. Fortunately it is still not too high, meaning significantly more people are surviving the virus than thoe dying from it. Altough this is not surprising and confirms trends that have been noticed throughout the pandemic. Another interesting note is that the number of \"not stated\" deaths decreases as the age groups get older. This may indicate that the younger populations are less likely to follow up with government health authorities.  "
   ]
  },
  {
   "cell_type": "code",
   "execution_count": 7,
   "metadata": {},
   "outputs": [
    {
     "data": {
      "text/plain": [
       "<seaborn.axisgrid.FacetGrid at 0x1041ca820>"
      ]
     },
     "execution_count": 7,
     "metadata": {},
     "output_type": "execute_result"
    },
    {
     "data": {
      "image/png": "[encoded data removed]",
      "text/plain": [
       "<Figure size 2016x1512 with 9 Axes>"
      ]
     },
     "metadata": {},
     "output_type": "display_data"
    }
   ],
   "source": [
    "sns.catplot(x=\"death\", col=\"age_group\", col_wrap=4,data=cov,kind=\"count\", height=7, aspect=1)"
   ]
  },
  {
   "cell_type": "markdown",
   "metadata": {},
   "source": [
    "Similar to the previous visualization, this column chart displays the hospitalization status of cases across age groups. Following the same trend, this chart indicates that hospitalizations are more common in older COVID-19 patients than in younger patients. Again, this is unsurprising and acts as further proof of these common trends. \n",
    "\n",
    "This data also confirms the earlier finding that the rates of unreport/unknown data is much higher in younger populations. Speculation on this is the same as mentioned, that these groups may not be as likely to report this health status to their local health authority. "
   ]
  },
  {
   "cell_type": "code",
   "execution_count": 8,
   "metadata": {},
   "outputs": [
    {
     "data": {
      "text/plain": [
       "<seaborn.axisgrid.FacetGrid at 0x117a02ac0>"
      ]
     },
     "execution_count": 8,
     "metadata": {},
     "output_type": "execute_result"
    },
    {
     "data": {
      "image/png": "[encoded data removed]",
      "text/plain": [
       "<Figure size 2016x1512 with 9 Axes>"
      ]
     },
     "metadata": {},
     "output_type": "display_data"
    }
   ],
   "source": [
    "sns.catplot(x=\"hospital_status\", col=\"age_group\", col_wrap=4,data=cov,kind=\"count\", height=7, aspect=1)"
   ]
  },
  {
   "cell_type": "markdown",
   "metadata": {},
   "source": [
    "### 2. Are COVID cases more prominent in one gender? "
   ]
  },
  {
   "cell_type": "markdown",
   "metadata": {},
   "source": [
    "This next analysis attempts to determine if COVID cases are more common in one gender compared to another. At first glance, on the below chart, it is indicated that the number of COVID cases is slightly higher in females. In the chart below, 1 represents males while 2 represents females and 9 represents other or unknown. In this case, the unknown variable is so low because any unknown variables was looked at through a second dataset by Statistics Canada to get the best data. "
   ]
  },
  {
   "cell_type": "code",
   "execution_count": 9,
   "metadata": {},
   "outputs": [
    {
     "data": {
      "text/plain": [
       "<AxesSubplot:xlabel='gender', ylabel='count'>"
      ]
     },
     "execution_count": 9,
     "metadata": {},
     "output_type": "execute_result"
    },
    {
     "data": {
      "image/png": "[encoded data removed]",
      "text/plain": [
       "<Figure size 432x288 with 1 Axes>"
      ]
     },
     "metadata": {},
     "output_type": "display_data"
    }
   ],
   "source": [
    "sns.countplot(x=\"gender\", data=cov)"
   ]
  },
  {
   "cell_type": "markdown",
   "metadata": {},
   "source": [
    "This next chart shows the distribution of COVID patients based on gender and survival. As the graph demonstrates, patients that survived make up for a much more significant portion than those that didnt. There is also a slightly higher number of females than males that survived, this is consistent with the numbers from the previous chart stating that more female than males had COVID. Looking at the column for those that died, there doesnt seem to be a difference in males compared to females. This may indicate that more males die from the virus than females.  "
   ]
  },
  {
   "cell_type": "code",
   "execution_count": 10,
   "metadata": {},
   "outputs": [
    {
     "data": {
      "text/plain": [
       "<AxesSubplot:xlabel='death', ylabel='Count'>"
      ]
     },
     "execution_count": 10,
     "metadata": {},
     "output_type": "execute_result"
    },
    {
     "data": {
      "image/png": "[encoded data removed]",
      "text/plain": [
       "<Figure size 432x288 with 1 Axes>"
      ]
     },
     "metadata": {},
     "output_type": "display_data"
    }
   ],
   "source": [
    "sns.histplot(cov, x=\"death\", hue=\"gender\", linewidth=0.1, palette='Pastel2')"
   ]
  },
  {
   "cell_type": "markdown",
   "metadata": {},
   "source": [
    "The laast analysis for this questions looks at a Pearson correlation test. The values below indicate that there is  very small negative correlation between gender and death. Unfortunately there is not much information that can be derived from this, although it may indicate when has been mentioned regarding more males than females dying because of COVID-19. "
   ]
  },
  {
   "cell_type": "code",
   "execution_count": 11,
   "metadata": {},
   "outputs": [
    {
     "data": {
      "text/plain": [
       "(-0.002905110127780076, 0.004323297174898863)"
      ]
     },
     "execution_count": 11,
     "metadata": {},
     "output_type": "execute_result"
    }
   ],
   "source": [
    "stats.pearsonr(cov['gender'], cov['death'])"
   ]
  },
  {
   "cell_type": "markdown",
   "metadata": {},
   "source": [
    "### 3. What is the relationship between region and transmission? "
   ]
  },
  {
   "cell_type": "markdown",
   "metadata": {},
   "source": [
    "The goal with this question is to see if there is any meaningful information that could indicate if either domestic or internaltional transmission is more common in certain regions. There is reason to belive that the major hubs, and the cities with international airports (Toronto, Vancouver, Calgary, etc...) would see the most international transmission cases, compared to the rest of the country that would in theory only be getting domestic cases (Transport Canada, 2021). \n",
    "\n",
    "The first two charts shown are counts of the different kinds of transmissions per region. The first region is the Atlantic which is has seen very low COVID-19 numbers, so it is unsurprising that it barely shows any data. As the rest of the charts demonstrate, the level of domestic transmission is much higher than international for all other regions. The regions with the highest international transmission was 2 and 4 which are Quebec and the Praries/Northwest Territories. It is surprising that Ontario does not have higher international transmission rates. "
   ]
  },
  {
   "cell_type": "code",
   "execution_count": 12,
   "metadata": {},
   "outputs": [
    {
     "data": {
      "text/plain": [
       "<seaborn.axisgrid.FacetGrid at 0x11aaff340>"
      ]
     },
     "execution_count": 12,
     "metadata": {},
     "output_type": "execute_result"
    },
    {
     "data": {
      "image/png": "[encoded data removed]",
      "text/plain": [
       "<Figure size 2520x504 with 5 Axes>"
      ]
     },
     "metadata": {},
     "output_type": "display_data"
    }
   ],
   "source": [
    "sns.catplot(x=\"transmission\", col=\"region\", col_wrap=5,data=cov,kind=\"count\", height=7, aspect=1)"
   ]
  },
  {
   "cell_type": "code",
   "execution_count": 13,
   "metadata": {},
   "outputs": [
    {
     "data": {
      "text/plain": [
       "<AxesSubplot:xlabel='region', ylabel='Count'>"
      ]
     },
     "execution_count": 13,
     "metadata": {},
     "output_type": "execute_result"
    },
    {
     "data": {
      "image/png": "[encoded data removed]",
      "text/plain": [
       "<Figure size 432x288 with 1 Axes>"
      ]
     },
     "metadata": {},
     "output_type": "display_data"
    }
   ],
   "source": [
    "sns.histplot(cov, x=\"region\", hue=\"transmission\", linewidth=0.5, palette='Pastel2')"
   ]
  },
  {
   "cell_type": "code",
   "execution_count": 14,
   "metadata": {},
   "outputs": [
    {
     "data": {
      "text/plain": [
       "<seaborn.axisgrid.FacetGrid at 0x119e51d90>"
      ]
     },
     "execution_count": 14,
     "metadata": {},
     "output_type": "execute_result"
    },
    {
     "data": {
      "image/png": "[encoded data removed]",
      "text/plain": [
       "<Figure size 450x360 with 1 Axes>"
      ]
     },
     "metadata": {},
     "output_type": "display_data"
    }
   ],
   "source": [
    "sns.catplot(data=cov, kind=\"bar\",x=\"region\", y=\"transmission\", height=5, aspect=1.25, color=\"slategray\")"
   ]
  },
  {
   "cell_type": "code",
   "execution_count": 15,
   "metadata": {},
   "outputs": [],
   "source": [
    "from sklearn.ensemble import RandomForestClassifier\n",
    "from sklearn.metrics import accuracy_score\n",
    "\n",
    "classifier = RandomForestClassifier(n_estimators=10, random_state=0)"
   ]
  },
  {
   "cell_type": "code",
   "execution_count": 16,
   "metadata": {},
   "outputs": [
    {
     "name": "stdout",
     "output_type": "stream",
     "text": [
      "Train: 475000 Test: 489821\n"
     ]
    }
   ],
   "source": [
    "training = cov[:475000]\n",
    "testing = cov[475000:]\n",
    "\n",
    "print(\"Train: \" + str(len(training)) + \" Test: \" + str(len(testing)))"
   ]
  },
  {
   "cell_type": "code",
   "execution_count": 17,
   "metadata": {},
   "outputs": [
    {
     "data": {
      "text/plain": [
       "RandomForestClassifier(n_estimators=10, random_state=0)"
      ]
     },
     "execution_count": 17,
     "metadata": {},
     "output_type": "execute_result"
    }
   ],
   "source": [
    "training_observed = training.drop('transmission', 1)\n",
    "training_labels = training['transmission']\n",
    "\n",
    "classifier.fit(training_observed, training_labels)"
   ]
  },
  {
   "cell_type": "code",
   "execution_count": 18,
   "metadata": {},
   "outputs": [
    {
     "data": {
      "text/plain": [
       "array([1, 1, 1, ..., 1, 1, 1])"
      ]
     },
     "execution_count": 18,
     "metadata": {},
     "output_type": "execute_result"
    }
   ],
   "source": [
    "testing_observed = testing.drop('transmission', 1)\n",
    "\n",
    "predictions = classifier.predict(testing_observed)\n",
    "predictions"
   ]
  },
  {
   "cell_type": "code",
   "execution_count": 19,
   "metadata": {},
   "outputs": [
    {
     "data": {
      "text/plain": [
       "0.9358806584446154"
      ]
     },
     "execution_count": 19,
     "metadata": {},
     "output_type": "execute_result"
    }
   ],
   "source": [
    "testing_labels = testing['transmission']\n",
    "accuracy_score(predictions, testing_labels)"
   ]
  },
  {
   "cell_type": "markdown",
   "metadata": {},
   "source": [
    "Above is a classifier is built to predict the COVID transmission based on the other variables in the dataset. This is helpful when looking at COVID cases to determine if there is a increasing danger of domestic spread. While international spread of COIVD is hard to limit, it is easier to control. Whereas domestic spread is more difficults to track and contain. The accuracy of the prediction is 93% which is a good spot to be for this size of a database.  "
   ]
  },
  {
   "cell_type": "markdown",
   "metadata": {},
   "source": [
    "### Results and Discussion\n",
    "\n",
    "Most of the results found through this analysis have been discussed in their relevant sections. However, to reiterate what was found in terms of the specific research questions this is what was found. \n",
    "\n",
    "1. Is there a relationship between the serverity of COVID and age? Severity will be determined by looking at hospitalization status and death. \n",
    "    * The analysis indicated that as age increased, both hospitaliation status and death rates increased, therefore confirming that COVID-19 is a more severe issue with older populations. \n",
    "    \n",
    "\n",
    "2. Are COVID cases more prominent in one gender?\n",
    "    * There is some evidence that supports a small difference in the number of COVID cases in females vs in males. THe data indicates that the number of female cases is slightly higher than males, while the number of deaths is nearly equivalent. \n",
    "\n",
    "\n",
    "3. What is the relationship between region and transmission? \n",
    "    * The results for this question were slightly surprising, the first thing to note is that the international transmission rates do not necessarily follow where the big hubs are, or where the most cases are. \n",
    "    * Having a 93% accuracy rate to determine the transmission based on related COVID data can be an asset when looking at future data that may have unknown transmission information. \n"
   ]
  },
  {
   "cell_type": "markdown",
   "metadata": {},
   "source": [
    "#### References\n",
    "\n",
    "__Data Source__: Public Health Agency of Canada (PHAC), COVID-19 epidemiological reports, with contribution from Provincial/Territorial Ministries of Health. For more information about this dataset please see the website: https://www150.statcan.gc.ca/n1/en/catalogue/13260002.\n",
    "\n",
    "Statistics Canada. (2020, May 22). User Guide and Data Dictionary for Preliminary COVID-19 Data. StatsCan. https://www150.statcan.gc.ca/n1/pub/13-26-0002/132600022020001-eng.htm\n",
    "\n",
    "Jones, B. (2021, January 24). Coronavirus: How the pandemic has changed the world economy. BBC News. https://www.bbc.com/news/business-51706225\n",
    "\n",
    "Transport Canada. (2021, January 29). Expansion of international flight restrictions at Canadian airports. Canada.Ca. https://www.canada.ca/en/transport-canada/news/2021/01/expansion-of-international-flight-restrictions-at-canadian-airports.html\n",
    "\n",
    "Team, D. (2019, February 22). Python Statistics – Python p-Value, Correlation, T-test, KS Test. DataFlair. https://data-flair.training/blogs/python-statistics/\n"
   ]
  }
 ],
 "metadata": {
  "kernelspec": {
   "display_name": "Python 3",
   "language": "python",
   "name": "python3"
  },
  "language_info": {
   "codemirror_mode": {
    "name": "ipython",
    "version": 3
   },
   "file_extension": ".py",
   "mimetype": "text/x-python",
   "name": "python",
   "nbconvert_exporter": "python",
   "pygments_lexer": "ipython3",
   "version": "3.8.5"
  }
 },
 "nbformat": 4,
 "nbformat_minor": 4
}
